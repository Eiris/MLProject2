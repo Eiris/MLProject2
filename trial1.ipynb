{
 "cells": [
  {
   "cell_type": "code",
   "execution_count": 1,
   "metadata": {},
   "outputs": [],
   "source": [
    "import scipy.io as scipy\n",
    "import numpy as np\n",
    "from sklearn.model_selection import KFold\n",
    "from sklearn.model_selection import train_test_split\n",
    "from sklearn.gaussian_process import GaussianProcessClassifier\n",
    "from sklearn.gaussian_process.kernels import RBF\n",
    "from time import time\n",
    "from sklearn.decomposition import PCA\n",
    "from sklearn.metrics import classification_report\n",
    "from sklearn.metrics import confusion_matrix\n",
    "from sklearn.gaussian_process import GaussianProcessRegressor"
   ]
  },
  {
   "cell_type": "code",
   "execution_count": 2,
   "metadata": {},
   "outputs": [
    {
     "name": "stdout",
     "output_type": "stream",
     "text": [
      "(25000L, 60L)\n"
     ]
    }
   ],
   "source": [
    "mat1 = scipy.loadmat('Proj2FeatVecsSet1.mat')\n",
    "mat2 = scipy.loadmat('Proj2TargetOutputsSet1.mat')\n",
    "data_set =  mat1['Proj2FeatVecsSet1']\n",
    "data_target = mat2['Proj2TargetOutputsSet1']\n",
    "\n",
    "print data_set.shape"
   ]
  },
  {
   "cell_type": "code",
   "execution_count": 3,
   "metadata": {},
   "outputs": [
    {
     "name": "stdout",
     "output_type": "stream",
     "text": [
      "(25000L, 9L)\n"
     ]
    }
   ],
   "source": [
    "pca = PCA(n_components=9)\n",
    "reduced_data = pca.fit_transform(data_set)\n",
    "print reduced_data.shape"
   ]
  },
  {
   "cell_type": "code",
   "execution_count": 4,
   "metadata": {
    "scrolled": true
   },
   "outputs": [
    {
     "name": "stdout",
     "output_type": "stream",
     "text": [
      "(25000L, 5L)\n"
     ]
    }
   ],
   "source": [
    "print data_target.shape"
   ]
  },
  {
   "cell_type": "code",
   "execution_count": 5,
   "metadata": {},
   "outputs": [
    {
     "name": "stdout",
     "output_type": "stream",
     "text": [
      "(25000L,)\n"
     ]
    }
   ],
   "source": [
    "number_labels = []\n",
    "for ars in data_target:\n",
    "    if np.all(ars == [1, -1, -1, -1, -1]):\n",
    "        ars = 1\n",
    "        number_labels.append(ars)\n",
    "    elif np.all(ars == [-1, 1, -1, -1, -1]):\n",
    "        ars = 2\n",
    "        number_labels.append(ars)\n",
    "    elif np.all(ars == [-1, -1, 1, -1, -1]):\n",
    "        ars = 3\n",
    "        number_labels.append(ars)\n",
    "    elif np.all(ars == [-1, -1, -1, 1, -1]):\n",
    "        ars = 4\n",
    "        number_labels.append(ars)\n",
    "    elif np.all(ars == [-1, -1, -1, -1, 1]):\n",
    "        ars = 5\n",
    "        number_labels.append(ars)\n",
    "\n",
    "number_labels = np.asarray(number_labels)\n",
    "\n",
    "print number_labels.shape"
   ]
  },
  {
   "cell_type": "code",
   "execution_count": 6,
   "metadata": {},
   "outputs": [
    {
     "name": "stdout",
     "output_type": "stream",
     "text": [
      "[1 1 1 ... 5 5 5]\n"
     ]
    }
   ],
   "source": [
    "print number_labels"
   ]
  },
  {
   "cell_type": "code",
   "execution_count": 7,
   "metadata": {},
   "outputs": [
    {
     "name": "stdout",
     "output_type": "stream",
     "text": [
      "(20000L, 9L)\n",
      "(5000L, 9L)\n",
      "(20000L,)\n",
      "(5000L,)\n"
     ]
    }
   ],
   "source": [
    "X_train, X_test, y_train, y_test = train_test_split(\n",
    "    reduced_data, number_labels, test_size=0.20, stratify = data_target)#, random_state=39)\n",
    "print X_train.shape\n",
    "print X_test.shape\n",
    "print y_train.shape\n",
    "print y_test.shape\n"
   ]
  },
  {
   "cell_type": "code",
   "execution_count": 8,
   "metadata": {},
   "outputs": [],
   "source": [
    "# print 'started training'\n",
    "# t0 = time()\n",
    "# clf = GaussianProcessClassifier(multi_class='one_vs_rest')\n",
    "# clf.fit(X_test,y_test)\n",
    "# print 'ok'\n",
    "# print time()-t0"
   ]
  },
  {
   "cell_type": "code",
   "execution_count": 9,
   "metadata": {},
   "outputs": [],
   "source": [
    "# y_pred = clf.predict(X_train)\n",
    "# print y_pred.shape\n",
    "# print(classification_report(y_train, y_pred))\n",
    "# print(confusion_matrix(y_train, y_pred))"
   ]
  },
  {
   "cell_type": "code",
   "execution_count": 10,
   "metadata": {},
   "outputs": [],
   "source": [
    "# X_train_1 = X_train[:4999]\n",
    "# X_train_2 = X_train[5000:9999]\n",
    "# X_train_3 = X_train[10000:14999]\n",
    "# X_train_4 = X_train[15000:20000]\n",
    "# y_train_1 = y_train[:4999]\n",
    "# y_train_2 = y_train[5000:9999]\n",
    "# y_train_3 = y_train[10000:14999]\n",
    "# y_train_4 = y_train[15000:20000]"
   ]
  },
  {
   "cell_type": "code",
   "execution_count": 11,
   "metadata": {},
   "outputs": [],
   "source": [
    "from sklearn.multiclass import OneVsOneClassifier"
   ]
  },
  {
   "cell_type": "code",
   "execution_count": 12,
   "metadata": {},
   "outputs": [],
   "source": [
    "# print(\"Fitting the classifier to the training set\")\n",
    "# t0 = time()\n",
    "# clf = OneVsOneClassifier(GaussianProcessClassifier())#kernel = kernel, alpha = 1e-10)#kernel=kernel) # Uses RBF as default\n",
    "# clf.fit(X_train_1, y_train_1)\n",
    "# print(\"done in %0.3fs\" % (time() - t0))"
   ]
  },
  {
   "cell_type": "code",
   "execution_count": 13,
   "metadata": {},
   "outputs": [],
   "source": [
    "# print(\"Predicting class on the test set\")\n",
    "# t0 = time()\n",
    "# y_pred = clf.predict(X_test)\n",
    "# print(\"done in %0.3fs\" % (time() - t0))\n",
    "# print(classification_report(y_test, y_pred))\n",
    "# print(confusion_matrix(y_test, y_pred))"
   ]
  },
  {
   "cell_type": "code",
   "execution_count": 40,
   "metadata": {},
   "outputs": [
    {
     "name": "stdout",
     "output_type": "stream",
     "text": [
      "Fitting the classifier to the training set\n",
      "done in 1.808s\n",
      "Fitting the classifier to the training set\n",
      "done in 1.540s\n",
      "Fitting the classifier to the training set\n",
      "done in 9.229s\n",
      "Fitting the classifier to the training set\n",
      "done in 1.804s\n",
      "Fitting the classifier to the training set\n",
      "done in 1.473s\n",
      "Fitting the classifier to the training set\n",
      "done in 10.310s\n",
      "Fitting the classifier to the training set\n",
      "done in 1.751s\n",
      "Fitting the classifier to the training set\n",
      "done in 1.316s\n",
      "Fitting the classifier to the training set\n",
      "done in 10.371s\n",
      "Fitting the classifier to the training set\n",
      "done in 1.640s\n",
      "Fitting the classifier to the training set\n",
      "done in 1.478s\n",
      "Fitting the classifier to the training set\n",
      "done in 10.580s\n",
      "Fitting the classifier to the training set\n",
      "done in 1.770s\n",
      "Fitting the classifier to the training set\n",
      "done in 1.486s\n",
      "Fitting the classifier to the training set\n",
      "done in 10.628s\n",
      "[array([[772,   5,   7,   3,   1],\n",
      "       [  5, 762,   5,  60,   1],\n",
      "       [  5,   4, 716,   5,  25],\n",
      "       [  5,  54,  11, 733,  14],\n",
      "       [  4,   2,  32,  12, 757]], dtype=int64), array([[765,   9,   7,   1,   5],\n",
      "       [ 12, 760,   1,  62,   0],\n",
      "       [ 10,   4, 747,   6,  27],\n",
      "       [  6,  67,   5, 708,  17],\n",
      "       [  4,   0,  10,  20, 747]], dtype=int64), array([[800,   5,   3,   1,   2],\n",
      "       [  8, 672,   0,  57,   1],\n",
      "       [ 10,   5, 801,   8,  29],\n",
      "       [  4,  49,   7, 683,  25],\n",
      "       [  0,   4,  17,  19, 790]], dtype=int64), array([[772,   4,   6,   4,   2],\n",
      "       [  5, 707,   4,  65,   0],\n",
      "       [  3,   6, 761,   7,  27],\n",
      "       [  4,  50,   4, 729,  17],\n",
      "       [  2,   1,  20,  32, 768]], dtype=int64), array([[807,  11,   5,   1,   2],\n",
      "       [  5, 747,   1,  60,   0],\n",
      "       [ 12,   4, 744,  10,  24],\n",
      "       [  7,  54,   6, 720,  21],\n",
      "       [  0,   5,  21,  27, 706]], dtype=int64)]\n"
     ]
    }
   ],
   "source": [
    "from sklearn.model_selection import KFold\n",
    "import glob\n",
    "import os\n",
    "# Not sure if this is the correct type of function we need\n",
    "def TrainMyClassifier(XEstimate, YEstimate, XValidate, TrainMyClassifierParameters):\n",
    "    from sklearn.svm import SVC\n",
    "#     from skrvm import RVC\n",
    "    from sklearn.gaussian_process import GaussianProcessClassifier\n",
    "    from sklearn.multiclass import OneVsOneClassifier\n",
    "    from sklearn.model_selection import GridSearchCV\n",
    "    from sklearn.gaussian_process.kernels import RBF\n",
    "    from time import time\n",
    "    t0 = time()\n",
    "    # Paramaters should have this shape in order for it to work ==>  Parameters = {'C': [1e3, 1e4, 1e5], 'gamma': [0.001, 0.01, 0.1] }\n",
    "    if TrainMyClassifierParameters[1] == 'SVM':\n",
    "        # ################################################\n",
    "        # Train a SVM classification model\n",
    "        print(\"Fitting the classifier to the training set\")\n",
    "        param_grid = TrainMyClassifierParameters[0]\n",
    "        clf = OneVsOneClassifier(GridSearchCV(SVC(kernel='rbf', class_weight='balanced'), param_grid))\n",
    "        clf = clf.fit(XEstimate, YEstimate)\n",
    "        y_pred = clf.predict(XValidate)\n",
    "        scores = clf.score(XEstimate,YEstimate)\n",
    "        print(\"done in %0.3fs\" % (time() - t0))\n",
    "        return y_pred, scores\n",
    "    elif TrainMyClassifierParameters[1] == 'RVM':\n",
    "        # #############################################################################\n",
    "        # Train a RVM classification model\n",
    "        print(\"Fitting the classifier to the training set\")\n",
    "        t0 = time()\n",
    "        param_grid = TrainMyClassifierParameters[0]\n",
    "        clf = OneVsOneClassifier(GridSearchCV(RVC(kernel='rbf',n_iter=1), param_grid))\n",
    "        clf.fit(XEstimate, YEstimate)\n",
    "        y_pred = clf.predict(XValidate)\n",
    "        scores = clf.score(XEstimate,YEstimate)\n",
    "        print(\"done in %0.3fs\" % (time() - t0))\n",
    "        return y_pred, scores\n",
    "    elif TrainMyClassifierParameters[1] == 'GP':\n",
    "       # #############################################################################\n",
    "        # Train a GP classification model\n",
    "        print(\"Fitting the classifier to the training set\")\n",
    "        t0 = time()\n",
    "        param_grid = TrainMyClassifierParameters[0]['length_scale']\n",
    "        k_rbf = RBF(length_scale=param_grid)\n",
    "        clf = OneVsOneClassifier(GaussianProcessClassifier(kernel = k_rbf))\n",
    "        clf.fit(X_train_1, y_train_1)\n",
    "        y_pred = clf.predict(XValidate)\n",
    "        scores = clf.score(XEstimate,YEstimate)\n",
    "        print(\"done in %0.3fs\" % (time() - t0))\n",
    "        return y_pred, scores\n",
    "    else:\n",
    "        print(\"Incorrect type of algorithm, please use only one of the supported classifiers SVM, RVM, GP\")\n",
    "\n",
    "def MyCrossValidate(XTrain,YTrain2,Nf,Algorithm):\n",
    "    dict = {} \n",
    "    \n",
    "    pca = PCA(n_components=9)\n",
    "    reduced_data = pca.fit_transform(XTrain)\n",
    "    #print reduced_data.shape\n",
    "    kf = KFold(n_splits=Nf)\n",
    "    kf.get_n_splits(XTrain)\n",
    "    EstParameters = []\n",
    "    EstConfMatrices = []\n",
    "    ConfMatrix=[]\n",
    "    YTrain = []\n",
    "    i=0        \n",
    "    for train_index, test_index in kf.split(XTrain):\n",
    "        # print(\"TRAIN:\", train_index, \"TEST:\", test_index)\n",
    "        XEst1 = XTrain[train_index]\n",
    "        YEst1 = YTrain2[train_index]      \n",
    "        XValid = XTrain[test_index]\n",
    "        YValid = YTrain2[test_index]          \n",
    "        XEst = XEst1[:4000]\n",
    "        YEst = YEst1[:4000]\n",
    "        TrainMyClassifierParameters = []\n",
    "        TrainMyClassifierParameters.append({'C': [1e3], 'gamma': [0.001] })\n",
    "        TrainMyClassifierParameters.append(Algorithm)\n",
    "        y_pred1, scores1 = TrainMyClassifier(XEst,YEst,XValid,TrainMyClassifierParameters)\n",
    "        TrainMyClassifierParameters[0] = {'C': [1e4], 'gamma': [0.01]}\n",
    "        y_pred2, scores2 = TrainMyClassifier(XEst,YEst,XValid,TrainMyClassifierParameters)\n",
    "        TrainMyClassifierParameters[0] = {'C': [1e5], 'gamma': [0.1]}\n",
    "        y_pred3, scores3 = TrainMyClassifier(XEst,YEst,XValid,TrainMyClassifierParameters)\n",
    "        if max(scores1,scores2,scores3)==scores1:\n",
    "            y_pred = y_pred1\n",
    "            dict[i]= {'scores':[scores1,scores2,scores3],'C': [1e3], 'gamma': [0.001]}\n",
    "        elif max(scores1,scores2,scores3)==scores2:\n",
    "            y_pred = y_pred2\n",
    "            dict[i]= {'scores':[scores1,scores2,scores3],'C': [1e4], 'gamma': [0.01]}\n",
    "        elif max(scores1,scores2,scores3)==scores3:\n",
    "            y_pred = y_pred3  \n",
    "            dict[i]= {'scores':[scores1,scores2,scores3],'C': [1e5], 'gamma': [0.1]}\n",
    "        confMatrix = MyConfusionMatrix(y_pred,YValid)\n",
    "        EstConfMatrices.append(confMatrix)\n",
    "#         EstParameters.append(params)\n",
    "        YTrain.append(y_pred)\n",
    "        i=i+1\n",
    "#         y_pred, params = TrainMyClassifier(XEst,YEst,XValid,Algorithm,{'C': [1], 'gamma': [1] })\n",
    "#         confMatrix = MyConfusionMatrix(y_pred,YValid)\n",
    "#         EstConfMatrices.append(confMatrix)\n",
    "#         EstParameters.append(params)\n",
    "#         YTrain.append(y_pred)\n",
    "    np.save(Algorithm+'.npy',dict)\n",
    "    return YTrain,EstParameters, EstConfMatrices,ConfMatrix\n",
    "def MyConfusionMatrix(Y,ClassNames):\n",
    "        return confusion_matrix(ClassNames,Y)\n",
    "       \n",
    "YTrain,EstParameters, EstConfMatrices,ConfMatrix = MyCrossValidate(X_train,y_train,5,'SVM')\n",
    "print EstConfMatrices\n",
    "        \n",
    "        "
   ]
  },
  {
   "cell_type": "code",
   "execution_count": 23,
   "metadata": {},
   "outputs": [
    {
     "name": "stdout",
     "output_type": "stream",
     "text": [
      "{'C': [2], 'gamma': [2]}\n"
     ]
    }
   ],
   "source": [
    "# TrainMyClassifierParameters = []\n",
    "# TrainMyClassifierParameters.append({'C': [1], 'gamma': [1] })\n",
    "# TrainMyClassifierParameters.append('SVM')\n",
    "# TrainMyClassifierParameters[0] = {'C': [2], 'gamma': [2]}\n",
    "# print TrainMyClassifierParameters[0]\n"
   ]
  },
  {
   "cell_type": "code",
   "execution_count": 41,
   "metadata": {},
   "outputs": [
    {
     "name": "stdout",
     "output_type": "stream",
     "text": [
      "{0: {'C': [100000.0], 'gamma': [0.1], 'scores': [0.926, 0.942, 0.976]}, 1: {'C': [100000.0], 'gamma': [0.1], 'scores': [0.9275, 0.94225, 0.978]}, 2: {'C': [100000.0], 'gamma': [0.1], 'scores': [0.9275, 0.94225, 0.978]}, 3: {'C': [100000.0], 'gamma': [0.1], 'scores': [0.9275, 0.94225, 0.978]}, 4: {'C': [100000.0], 'gamma': [0.1], 'scores': [0.9275, 0.94225, 0.978]}}\n"
     ]
    }
   ],
   "source": [
    "read_dictionary = np.load('SVM.npy').item()\n",
    "print read_dictionary"
   ]
  },
  {
   "cell_type": "code",
   "execution_count": null,
   "metadata": {},
   "outputs": [],
   "source": []
  }
 ],
 "metadata": {
  "kernelspec": {
   "display_name": "Python 2",
   "language": "python",
   "name": "python2"
  },
  "language_info": {
   "codemirror_mode": {
    "name": "ipython",
    "version": 2
   },
   "file_extension": ".py",
   "mimetype": "text/x-python",
   "name": "python",
   "nbconvert_exporter": "python",
   "pygments_lexer": "ipython2",
   "version": "2.7.14"
  }
 },
 "nbformat": 4,
 "nbformat_minor": 2
}
