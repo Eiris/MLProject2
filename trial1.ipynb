{
 "cells": [
  {
   "cell_type": "code",
   "execution_count": 1,
   "metadata": {},
   "outputs": [],
   "source": [
    "import scipy.io as scipy\n",
    "import numpy as np\n",
    "from sklearn.model_selection import KFold\n",
    "from sklearn.model_selection import train_test_split\n",
    "from sklearn.gaussian_process import GaussianProcessClassifier\n",
    "from sklearn.gaussian_process.kernels import RBF\n",
    "from time import time\n",
    "from sklearn.decomposition import PCA\n",
    "from sklearn.metrics import classification_report\n",
    "from sklearn.metrics import confusion_matrix\n",
    "from sklearn.gaussian_process import GaussianProcessRegressor"
   ]
  },
  {
   "cell_type": "code",
   "execution_count": 2,
   "metadata": {},
   "outputs": [
    {
     "name": "stdout",
     "output_type": "stream",
     "text": [
      "(25000L, 60L)\n"
     ]
    }
   ],
   "source": [
    "mat1 = scipy.loadmat('Proj2FeatVecsSet1.mat')\n",
    "mat2 = scipy.loadmat('Proj2TargetOutputsSet1.mat')\n",
    "data_set =  mat1['Proj2FeatVecsSet1']\n",
    "data_target = mat2['Proj2TargetOutputsSet1']\n",
    "\n",
    "print data_set.shape"
   ]
  },
  {
   "cell_type": "code",
   "execution_count": 3,
   "metadata": {},
   "outputs": [
    {
     "name": "stdout",
     "output_type": "stream",
     "text": [
      "(25000L, 9L)\n"
     ]
    }
   ],
   "source": [
    "pca = PCA(n_components=9)\n",
    "reduced_data = pca.fit_transform(data_set)\n",
    "print reduced_data.shape"
   ]
  },
  {
   "cell_type": "code",
   "execution_count": 4,
   "metadata": {
    "scrolled": true
   },
   "outputs": [
    {
     "name": "stdout",
     "output_type": "stream",
     "text": [
      "(25000L, 5L)\n"
     ]
    }
   ],
   "source": [
    "print data_target.shape"
   ]
  },
  {
   "cell_type": "code",
   "execution_count": 5,
   "metadata": {},
   "outputs": [
    {
     "name": "stdout",
     "output_type": "stream",
     "text": [
      "(25000L,)\n"
     ]
    }
   ],
   "source": [
    "number_labels = []\n",
    "for ars in data_target:\n",
    "    if np.all(ars == [1, -1, -1, -1, -1]):\n",
    "        ars = 1\n",
    "        number_labels.append(ars)\n",
    "    elif np.all(ars == [-1, 1, -1, -1, -1]):\n",
    "        ars = 2\n",
    "        number_labels.append(ars)\n",
    "    elif np.all(ars == [-1, -1, 1, -1, -1]):\n",
    "        ars = 3\n",
    "        number_labels.append(ars)\n",
    "    elif np.all(ars == [-1, -1, -1, 1, -1]):\n",
    "        ars = 4\n",
    "        number_labels.append(ars)\n",
    "    elif np.all(ars == [-1, -1, -1, -1, 1]):\n",
    "        ars = 5\n",
    "        number_labels.append(ars)\n",
    "\n",
    "number_labels = np.asarray(number_labels)\n",
    "\n",
    "print number_labels.shape"
   ]
  },
  {
   "cell_type": "code",
   "execution_count": 6,
   "metadata": {},
   "outputs": [
    {
     "name": "stdout",
     "output_type": "stream",
     "text": [
      "[1 1 1 ... 5 5 5]\n"
     ]
    }
   ],
   "source": [
    "print number_labels"
   ]
  },
  {
   "cell_type": "code",
   "execution_count": 7,
   "metadata": {},
   "outputs": [
    {
     "name": "stdout",
     "output_type": "stream",
     "text": [
      "(20000L, 9L)\n",
      "(5000L, 9L)\n",
      "(20000L,)\n",
      "(5000L,)\n"
     ]
    }
   ],
   "source": [
    "X_train, X_test, y_train, y_test = train_test_split(\n",
    "    reduced_data, number_labels, test_size=0.20, stratify = data_target)#, random_state=39)\n",
    "print X_train.shape\n",
    "print X_test.shape\n",
    "print y_train.shape\n",
    "print y_test.shape\n"
   ]
  },
  {
   "cell_type": "code",
   "execution_count": 8,
   "metadata": {},
   "outputs": [],
   "source": [
    "# print 'started training'\n",
    "# t0 = time()\n",
    "# clf = GaussianProcessClassifier(multi_class='one_vs_rest')\n",
    "# clf.fit(X_test,y_test)\n",
    "# print 'ok'\n",
    "# print time()-t0"
   ]
  },
  {
   "cell_type": "code",
   "execution_count": 9,
   "metadata": {},
   "outputs": [],
   "source": [
    "# y_pred = clf.predict(X_train)\n",
    "# print y_pred.shape\n",
    "# print(classification_report(y_train, y_pred))\n",
    "# print(confusion_matrix(y_train, y_pred))"
   ]
  },
  {
   "cell_type": "code",
   "execution_count": 10,
   "metadata": {},
   "outputs": [],
   "source": [
    "# X_train_1 = X_train[:4999]\n",
    "# X_train_2 = X_train[5000:9999]\n",
    "# X_train_3 = X_train[10000:14999]\n",
    "# X_train_4 = X_train[15000:20000]\n",
    "# y_train_1 = y_train[:4999]\n",
    "# y_train_2 = y_train[5000:9999]\n",
    "# y_train_3 = y_train[10000:14999]\n",
    "# y_train_4 = y_train[15000:20000]"
   ]
  },
  {
   "cell_type": "code",
   "execution_count": 11,
   "metadata": {},
   "outputs": [],
   "source": [
    "from sklearn.multiclass import OneVsOneClassifier"
   ]
  },
  {
   "cell_type": "code",
   "execution_count": 12,
   "metadata": {},
   "outputs": [],
   "source": [
    "# print(\"Fitting the classifier to the training set\")\n",
    "# t0 = time()\n",
    "# clf = OneVsOneClassifier(GaussianProcessClassifier())#kernel = kernel, alpha = 1e-10)#kernel=kernel) # Uses RBF as default\n",
    "# clf.fit(X_train_1, y_train_1)\n",
    "# print(\"done in %0.3fs\" % (time() - t0))"
   ]
  },
  {
   "cell_type": "code",
   "execution_count": 13,
   "metadata": {},
   "outputs": [],
   "source": [
    "# print(\"Predicting class on the test set\")\n",
    "# t0 = time()\n",
    "# y_pred = clf.predict(X_test)\n",
    "# print(\"done in %0.3fs\" % (time() - t0))\n",
    "# print(classification_report(y_test, y_pred))\n",
    "# print(confusion_matrix(y_test, y_pred))"
   ]
  },
  {
   "cell_type": "code",
   "execution_count": 28,
   "metadata": {},
   "outputs": [
    {
     "name": "stdout",
     "output_type": "stream",
     "text": [
      "(2000L, 9L)\n",
      "Fitting the classifier to the training set\n",
      "done in 1.292s\n",
      "Fitting the classifier to the training set\n",
      "done in 1.309s\n",
      "Fitting the classifier to the training set\n",
      "done in 0.982s\n",
      "(2000L, 9L)\n",
      "Fitting the classifier to the training set\n",
      "done in 0.879s\n",
      "Fitting the classifier to the training set\n",
      "done in 0.744s\n",
      "Fitting the classifier to the training set\n",
      "done in 0.625s\n",
      "(2000L, 9L)\n",
      "Fitting the classifier to the training set\n",
      "done in 0.870s\n",
      "Fitting the classifier to the training set\n",
      "done in 0.758s\n",
      "Fitting the classifier to the training set\n",
      "done in 0.646s\n",
      "(2000L, 9L)\n",
      "Fitting the classifier to the training set\n",
      "done in 0.798s\n",
      "Fitting the classifier to the training set\n",
      "done in 0.707s\n",
      "Fitting the classifier to the training set\n",
      "done in 0.647s\n",
      "(2000L, 9L)\n",
      "Fitting the classifier to the training set\n",
      "done in 0.817s\n",
      "Fitting the classifier to the training set\n",
      "done in 0.665s\n",
      "Fitting the classifier to the training set\n",
      "done in 0.652s\n",
      "[SVC(C=100000.0, cache_size=200, class_weight='balanced', coef0=0.0,\n",
      "  decision_function_shape='ovo', degree=3, gamma=0.3, kernel='rbf',\n",
      "  max_iter=-1, probability=False, random_state=None, shrinking=True,\n",
      "  tol=0.001, verbose=False), SVC(C=100000.0, cache_size=200, class_weight='balanced', coef0=0.0,\n",
      "  decision_function_shape='ovo', degree=3, gamma=0.3, kernel='rbf',\n",
      "  max_iter=-1, probability=False, random_state=None, shrinking=True,\n",
      "  tol=0.001, verbose=False), SVC(C=100000.0, cache_size=200, class_weight='balanced', coef0=0.0,\n",
      "  decision_function_shape='ovo', degree=3, gamma=0.3, kernel='rbf',\n",
      "  max_iter=-1, probability=False, random_state=None, shrinking=True,\n",
      "  tol=0.001, verbose=False), SVC(C=100000.0, cache_size=200, class_weight='balanced', coef0=0.0,\n",
      "  decision_function_shape='ovo', degree=3, gamma=0.3, kernel='rbf',\n",
      "  max_iter=-1, probability=False, random_state=None, shrinking=True,\n",
      "  tol=0.001, verbose=False), SVC(C=100000.0, cache_size=200, class_weight='balanced', coef0=0.0,\n",
      "  decision_function_shape='ovo', degree=3, gamma=0.3, kernel='rbf',\n",
      "  max_iter=-1, probability=False, random_state=None, shrinking=True,\n",
      "  tol=0.001, verbose=False)]\n",
      "[         One    Two  Three   Four   Five\n",
      "One    0.911  0.006  0.004  0.001  0.005\n",
      "Two    0.035  0.863  0.007  0.097    0.0\n",
      "Three  0.026  0.004  0.949  0.004  0.047\n",
      "Four   0.014   0.12  0.012  0.861  0.015\n",
      "Five   0.013  0.007  0.027  0.036  0.933,          One    Two  Three   Four   Five\n",
      "One    0.941  0.011   0.01  0.003    0.0\n",
      "Two     0.02  0.864  0.005  0.115  0.001\n",
      "Three   0.01  0.006  0.937  0.003  0.028\n",
      "Four   0.018  0.114  0.007  0.844  0.039\n",
      "Five    0.01  0.005  0.041  0.035  0.932,          One    Two  Three   Four   Five\n",
      "One    0.919  0.007  0.007    0.0  0.001\n",
      "Two    0.033   0.87  0.002  0.102    0.0\n",
      "Three  0.014  0.005  0.942  0.009  0.044\n",
      "Four   0.029  0.112  0.011  0.862  0.041\n",
      "Five   0.005  0.006  0.037  0.027  0.914,          One    Two  Three   Four   Five\n",
      "One    0.956  0.004  0.005  0.003    0.0\n",
      "Two    0.016  0.883  0.008  0.086    0.0\n",
      "Three  0.013  0.005  0.927  0.005  0.015\n",
      "Four   0.012    0.1  0.008  0.862  0.038\n",
      "Five   0.002  0.008  0.052  0.044  0.947,          One    Two  Three   Four   Five\n",
      "One    0.936  0.007  0.004  0.004  0.003\n",
      "Two    0.026  0.849  0.004  0.083  0.003\n",
      "Three  0.013  0.006  0.937  0.008  0.021\n",
      "Four   0.009  0.131  0.008  0.862  0.039\n",
      "Five   0.015  0.006  0.048  0.043  0.935]\n",
      "[[9.326e-01 7.000e-03 6.000e-03 2.200e-03 1.800e-03]\n",
      " [2.600e-02 8.658e-01 5.200e-03 9.660e-02 8.000e-04]\n",
      " [1.520e-02 5.200e-03 9.384e-01 5.800e-03 3.100e-02]\n",
      " [1.640e-02 1.154e-01 9.200e-03 8.582e-01 3.440e-02]\n",
      " [9.000e-03 6.400e-03 4.100e-02 3.700e-02 9.322e-01]]\n"
     ]
    }
   ],
   "source": [
    "from sklearn.model_selection import KFold\n",
    "import glob\n",
    "import os\n",
    "# Not sure if this is the correct type of function we need\n",
    "def TrainMyClassifier(XEstimate, YEstimate, XValidate, TrainMyClassifierParameters):\n",
    "    from sklearn.svm import SVC\n",
    "#     from skrvm import RVC\n",
    "    from sklearn.gaussian_process import GaussianProcessClassifier\n",
    "    from sklearn.multiclass import OneVsOneClassifier\n",
    "    from sklearn.model_selection import GridSearchCV\n",
    "    from sklearn.gaussian_process.kernels import RBF\n",
    "    from time import time\n",
    "    t0 = time()\n",
    "    # Paramaters should have this shape in order for it to work ==>  Parameters = {'C': [1e3, 1e4, 1e5], 'gamma': [0.001, 0.01, 0.1] }\n",
    "    if TrainMyClassifierParameters[1] == 'SVM':\n",
    "        # ################################################\n",
    "        # Train a SVM classification model\n",
    "        print(\"Fitting the classifier to the training set\")\n",
    "        param_grid = TrainMyClassifierParameters[0]\n",
    "        clf = SVC(kernel='rbf', class_weight='balanced', decision_function_shape = 'ovo',**TrainMyClassifierParameters[0])\n",
    "        clf = clf.fit(XEstimate, YEstimate)\n",
    "        y_pred = clf.predict(XValidate)\n",
    "        scores = clf.score(XEstimate,YEstimate)\n",
    "        params = clf\n",
    "        print(\"done in %0.3fs\" % (time() - t0))\n",
    "        return y_pred, scores, params\n",
    "    elif TrainMyClassifierParameters[1] == 'RVM':\n",
    "        # #############################################################################\n",
    "        # Train a RVM classification model\n",
    "        print(\"Fitting the classifier to the training set\")\n",
    "        t0 = time()\n",
    "        clf = RVC(kernel='rbf',n_iter=1,**TrainMyClassifierParameters[0])\n",
    "        clf.fit(XEstimate, YEstimate)\n",
    "        y_pred = clf.predict(XValidate)\n",
    "        scores = clf.score(XEstimate,YEstimate)\n",
    "        params = clf\n",
    "        print(\"done in %0.3fs\" % (time() - t0))\n",
    "        return y_pred, scores, params\n",
    "    elif TrainMyClassifierParameters[1] == 'GP':\n",
    "       # #############################################################################\n",
    "        # Train a GP classification model\n",
    "        print(\"Fitting the classifier to the training set\")\n",
    "        t0 = time()\n",
    "        k_rbf = 1 * RBF(length_scale=TrainMyClassifierParameters[0]['length_scale'])\n",
    "        clf = GaussianProcessClassifier(kernel = k_rbf, multi_class = 'one_vs_one')\n",
    "        clf.fit(X_train_1, y_train_1)\n",
    "        y_pred = clf.predict(XValidate)\n",
    "        scores = clf.score(XEstimate,YEstimate)\n",
    "        params = clf\n",
    "        print(\"done in %0.3fs\" % (time() - t0))\n",
    "        return y_pred, scores, params\n",
    "    else:\n",
    "        print(\"Incorrect type of algorithm, please use only one of the supported classifiers SVM, RVM, GP\")\n",
    "\n",
    "def MyCrossValidate(XTrain,YTrain2,Nf,Algorithm):\n",
    "    dict = {}   \n",
    "    pca = PCA(n_components=9)\n",
    "    reduced_data = pca.fit_transform(XTrain)\n",
    "    #print reduced_data.shape\n",
    "    kf = KFold(n_splits=Nf)\n",
    "    kf.get_n_splits(XTrain)\n",
    "    EstParameters = []\n",
    "    EstConfMatrices = []\n",
    "    ConfMatrix=np.zeros((5,5),dtype=int)\n",
    "    YTrain = []\n",
    "    i=0        \n",
    "    for train_index, test_index in kf.split(XTrain):\n",
    "        # down-sampling\n",
    "        XEst1 = XTrain[train_index]\n",
    "        YEst1 = YTrain2[train_index]      \n",
    "        XValid = XTrain[test_index]\n",
    "        YValid = YTrain2[test_index]  \n",
    "        \n",
    "        XEst = XEst1[:2000]\n",
    "#         XEst = np.append(XEst,XEst1[4000:6000])\n",
    "#         XEst = np.append(XEst,XEst1[8000:10000])\n",
    "#         XEst = np.append(XEst,XEst1[12000:14000])\n",
    "        print XEst.shape\n",
    "        \n",
    "        YEst = YEst1[:2000]\n",
    "#         YEst = np.append(YEst,YEst1[4000:6000])\n",
    "#         YEst = np.append(YEst,YEst1[8000:10000])\n",
    "#         YEst = np.append(YEst,YEst1[12000:14000])\n",
    "        \n",
    "        TrainMyClassifierParameters = []\n",
    "        TrainMyClassifierParameters.append({'C': 1e5, 'gamma': 0.1 })\n",
    "        TrainMyClassifierParameters.append(Algorithm)\n",
    "        y_pred1, scores1, params1 = TrainMyClassifier(XEst,YEst,XValid,TrainMyClassifierParameters)\n",
    "        TrainMyClassifierParameters[0] = {'C': 1e5, 'gamma': 0.2}\n",
    "        y_pred2, scores2, params2 = TrainMyClassifier(XEst,YEst,XValid,TrainMyClassifierParameters)\n",
    "        TrainMyClassifierParameters[0] = {'C': 1e5, 'gamma': 0.3}\n",
    "        y_pred3, scores3, params3 = TrainMyClassifier(XEst,YEst,XValid,TrainMyClassifierParameters)\n",
    "        if max(scores1,scores2,scores3)==scores1:\n",
    "            y_pred = y_pred1\n",
    "            EstParameters.append(params1)\n",
    "            dict[i]= {'scores':[scores1,scores2,scores3],'C': 1e5, 'gamma': 0.1}\n",
    "        elif max(scores1,scores2,scores3)==scores2:\n",
    "            y_pred = y_pred2\n",
    "            EstParameters.append(params2)\n",
    "            dict[i]= {'scores':[scores1,scores2,scores3],'C': 1e5, 'gamma': 0.2}\n",
    "        elif max(scores1,scores2,scores3)==scores3:\n",
    "            y_pred = y_pred3  \n",
    "            EstParameters.append(params3)\n",
    "            dict[i]= {'scores':[scores1,scores2,scores3],'C': 1e5, 'gamma': 0.3}\n",
    "        c_m, df, a_s  = MyConfusionMatrix(y_pred, YValid,['One','Two','Three','Four','Five'])\n",
    "        \n",
    "        ConfMatrix=ConfMatrix+c_m\n",
    "        EstConfMatrices.append(df)\n",
    "        \n",
    "        YTrain.append(y_pred)\n",
    "        i=i+1\n",
    "#         y_pred, params = TrainMyClassifier(XEst,YEst,XValid,Algorithm,{'C': [1], 'gamma': [1] })\n",
    "#         confMatrix = MyConfusionMatrix(y_pred,YValid)\n",
    "#         EstConfMatrices.append(confMatrix)\n",
    "#         EstParameters.append(params)\n",
    "#         YTrain.append(y_pred)\n",
    "    np.save(Algorithm+'.npy',dict)\n",
    "    ConfMatrix = ConfMatrix/5   \n",
    "    return YTrain,EstParameters, EstConfMatrices,ConfMatrix\n",
    "\n",
    "\n",
    "def MyConfusionMatrix(Y,YValidate,ClassNames):\n",
    "    from sklearn.metrics import classification_report\n",
    "    from sklearn.metrics import confusion_matrix\n",
    "    from sklearn.metrics import accuracy_score\n",
    "    import pandas as pd\n",
    "    c_r = classification_report(YValidate, Y)\n",
    "    c_m = confusion_matrix(YValidate, Y)\n",
    "    c_m = np.round((c_m / c_m.astype(np.float).sum(axis=0)), 3)\n",
    "    a_s = accuracy_score(YValidate, Y)\n",
    "    # labels = ['One','Two','Three','Four','Five'] - This is the format of the labels\n",
    "    labels = ClassNames\n",
    "    df = pd.DataFrame(c_m, dtype='str', index=labels)\n",
    "    df.columns = ClassNames\n",
    "    return c_m, df, a_s       \n",
    "\n",
    "\n",
    "YTrain,EstParameters, EstConfMatrices,ConfMatrix = MyCrossValidate(X_train,y_train,5,'SVM')\n",
    "print EstParameters\n",
    "print EstConfMatrices\n",
    "print ConfMatrix\n",
    "    \n",
    "        "
   ]
  },
  {
   "cell_type": "code",
   "execution_count": 15,
   "metadata": {},
   "outputs": [],
   "source": [
    "# TrainMyClassifierParameters = []\n",
    "# TrainMyClassifierParameters.append({'C': [1], 'gamma': [1] })\n",
    "# TrainMyClassifierParameters.append('SVM')\n",
    "# TrainMyClassifierParameters[0] = {'C': [2], 'gamma': [2]}\n",
    "# print TrainMyClassifierParameters[0]\n"
   ]
  },
  {
   "cell_type": "code",
   "execution_count": 16,
   "metadata": {},
   "outputs": [
    {
     "name": "stdout",
     "output_type": "stream",
     "text": [
      "{0: {'C': 100000.0, 'gamma': 0.1, 'scores': [0.978, 0.9845, 0.9895]}, 1: {'C': 100000.0, 'gamma': 0.1, 'scores': [0.97775, 0.988, 0.992]}, 2: {'C': 100000.0, 'gamma': 0.1, 'scores': [0.97775, 0.988, 0.992]}, 3: {'C': 100000.0, 'gamma': 0.1, 'scores': [0.97775, 0.988, 0.992]}, 4: {'C': 100000.0, 'gamma': 0.1, 'scores': [0.97775, 0.988, 0.992]}}\n"
     ]
    }
   ],
   "source": [
    "read_dictionary = np.load('SVM.npy').item()\n",
    "print read_dictionary"
   ]
  },
  {
   "cell_type": "code",
   "execution_count": null,
   "metadata": {},
   "outputs": [],
   "source": []
  }
 ],
 "metadata": {
  "kernelspec": {
   "display_name": "Python 2",
   "language": "python",
   "name": "python2"
  },
  "language_info": {
   "codemirror_mode": {
    "name": "ipython",
    "version": 2
   },
   "file_extension": ".py",
   "mimetype": "text/x-python",
   "name": "python",
   "nbconvert_exporter": "python",
   "pygments_lexer": "ipython2",
   "version": "2.7.14"
  }
 },
 "nbformat": 4,
 "nbformat_minor": 2
}
